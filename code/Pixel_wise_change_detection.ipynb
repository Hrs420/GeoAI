{
 "cells": [
  {
   "cell_type": "code",
   "execution_count": 2,
   "id": "4bfaa61b",
   "metadata": {},
   "outputs": [
    {
     "name": "stderr",
     "output_type": "stream",
     "text": [
      "C:\\Users\\omkol\\anaconda3\\lib\\site-packages\\rasterio\\__init__.py:343: NotGeoreferencedWarning: Dataset has no geotransform, gcps, or rpcs. The identity matrix will be returned.\n",
      "  dataset = writer(\n"
     ]
    },
    {
     "name": "stdout",
     "output_type": "stream",
     "text": [
      "Intensity 1 has decreased in the second image.\n",
      "Boolean change map for intensity 1 saved as boolean_change_map_intensity_1.tif\n"
     ]
    }
   ],
   "source": [
    "import rasterio\n",
    "import numpy as np\n",
    "\n",
    "# Load the two TIFF images\n",
    "with rasterio.open(r'C:\\Users\\omkol\\Downloads\\landcover_colombian_amazon_2014.tif') as src1, rasterio.open(r'C:\\Users\\omkol\\Downloads\\landcover_colombian_amazon_2016.tif') as src2:\n",
    "    # Read the data as numpy arrays\n",
    "    image1 = src1.read(1)  # Assuming single band image\n",
    "    image2 = src2.read(1)  # Assuming single band image\n",
    "\n",
    "# Define the intensity value to detect (1 in this case)\n",
    "target_intensity = 1\n",
    "\n",
    "# Create a mask for pixels with the target intensity in both images\n",
    "mask1 = (image1 == target_intensity)\n",
    "mask2 = (image2 == target_intensity)\n",
    "\n",
    "# Calculate the change in the presence of the target intensity\n",
    "change = np.logical_xor(mask1, mask2).astype(np.uint8)\n",
    "\n",
    "# Define the output file path for the boolean change map\n",
    "output_file = 'boolean_change_map_intensity_1.tif'\n",
    "\n",
    "# Write the boolean change map as a new TIFF image\n",
    "with rasterio.open(output_file, 'w', driver='GTiff',\n",
    "                   height=change.shape[0], width=change.shape[1],\n",
    "                   count=1, dtype=np.uint8) as dst:\n",
    "    dst.write(change, 1)\n",
    "\n",
    "print(f'Boolean change map for intensity {target_intensity} saved as {output_file}')\n"
   ]
  },
  {
   "cell_type": "code",
   "execution_count": 4,
   "id": "e91b68ba",
   "metadata": {},
   "outputs": [],
   "source": [
    "import matplotlib.pyplot as plt"
   ]
  },
  {
   "cell_type": "code",
   "execution_count": 11,
   "id": "76a16f1c",
   "metadata": {},
   "outputs": [
    {
     "data": {
      "image/png": "[encoded data removed]",
      "text/plain": [
       "<Figure size 576x576 with 2 Axes>"
      ]
     },
     "metadata": {
      "needs_background": "light"
     },
     "output_type": "display_data"
    },
    {
     "name": "stdout",
     "output_type": "stream",
     "text": [
      "Deforestration happened\n",
      "Total changed area: 1.29237 square kilometers\n"
     ]
    }
   ],
   "source": [
    "with rasterio.open('boolean_change_map_intensity_1.tif') as src:\n",
    "    # Read the data in Band 1\n",
    "    band1_data = src.read(1)\n",
    "\n",
    "    # Downsample the data (e.g., by a factor of 8)\n",
    "    downsampled_data = band1_data[::8, ::8]\n",
    "\n",
    "    # Create a color-mapped plot\n",
    "    fig, ax = plt.subplots(figsize=(8, 8))  # Create a new figure and axes\n",
    "    cmap = plt.get_cmap('tab20')\n",
    "    im = ax.imshow(downsampled_data, cmap=cmap)\n",
    "\n",
    "    # Add a colorbar\n",
    "    cbar = plt.colorbar(im, ax=ax, label='Categories')\n",
    "\n",
    "    # Set the title\n",
    "    ax.set_title('Band 1 Data Visualization (Downsampled)')\n",
    "\n",
    "    # Display the plot\n",
    "    plt.show()\n",
    "\n",
    "# Count the number of pixels with the target intensity in each image\n",
    "count_intensity1_image1 = np.sum(image1 == target_intensity)\n",
    "count_intensity1_image2 = np.sum(image2 == target_intensity)\n",
    "\n",
    "# Determine if intensity 1 has increased or decreased\n",
    "if count_intensity1_image2 > count_intensity1_image1:\n",
    "    print(f'Afforestration happened')\n",
    "elif count_intensity1_image2 < count_intensity1_image1:\n",
    "    print(f'Deforestration happened')\n",
    "else:\n",
    "    print(f'No Change')\n",
    "    \n",
    "# Calculate the total changed area in square meters\n",
    "total_changed_area_sq_meters = np.sum(change)\n",
    "\n",
    "# Convert the total changed area to square kilometers\n",
    "total_changed_area_sq_km = total_changed_area_sq_meters / 1e6\n",
    "\n",
    "print(f'Total changed area: {total_changed_area_sq_km} square kilometers')"
   ]
  },
  {
   "cell_type": "code",
   "execution_count": null,
   "id": "26ed1455",
   "metadata": {},
   "outputs": [],
   "source": []
  }
 ],
 "metadata": {
  "kernelspec": {
   "display_name": "Python 3 (ipykernel)",
   "language": "python",
   "name": "python3"
  },
  "language_info": {
   "codemirror_mode": {
    "name": "ipython",
    "version": 3
   },
   "file_extension": ".py",
   "mimetype": "text/x-python",
   "name": "python",
   "nbconvert_exporter": "python",
   "pygments_lexer": "ipython3",
   "version": "3.9.7"
  }
 },
 "nbformat": 4,
 "nbformat_minor": 5
}
